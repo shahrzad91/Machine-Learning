{
 "cells": [
  {
   "cell_type": "markdown",
   "id": "9cef57b1-d742-4d1f-9867-ec16eb8afcf9",
   "metadata": {},
   "source": [
    "# Gradient_Descent "
   ]
  },
  {
   "cell_type": "code",
   "execution_count": null,
   "id": "be44de98-c3a5-4a15-ab02-31003d5f3735",
   "metadata": {},
   "outputs": [],
   "source": [
    "# Prepared Data\n",
    "import numpy as np\n",
    "import matplotlib.pyplot as plt\n",
    "%matplotlib inline\n",
    "np.random.seed(45)\n",
    "n , d = 500 ,3\n",
    "x = np.random.rand(n ,d)\n",
    "w = np.array([1,2,3])\n",
    "error = np.random.rand(n,1)\n",
    "y = np.dot(x,w.reshape(-1,1)) + error\n",
    "x = np.hstack((np.ones((len(y), 1)), x))\n",
    "\n",
    "# Run gradient descent\n",
    "w, costs = gradient_descent(x, y, num_iters=10)\n",
    "print(\"Learned parameters:\", w)\n",
    "plt.plot( range(len(costs)) , costs , linewidth = 2 )"
   ]
  },
  {
   "cell_type": "code",
   "execution_count": null,
   "id": "f962f7a0-3d22-41b5-aaa7-a03e98551d98",
   "metadata": {},
   "outputs": [],
   "source": [
    "# Define the gradient descent function\n",
    "\n",
    "def gradient_descent(x, y, alpha=0.001, beta=0.7, num_iters=1000):\n",
    "    n, d = x.shape\n",
    "    w = np.zeros((d, 1))\n",
    "\n",
    "    costs = []\n",
    "    for i in range(num_iters):\n",
    "        step_size = line_search(x, y, w, alpha, beta)\n",
    "        w = w - step_size * gradient(x, y, w)\n",
    "        costs.append(cost_function(x, y, w))\n",
    "        \n",
    "    return w, costs\n",
    "\n",
    "# Define the line search function\n",
    "\n",
    "def line_search(x, y, w, alpha=0.001, beta=0.7):\n",
    "    cost = cost_function(x, y, w)\n",
    "    grad = gradient(x, y, w)\n",
    "    step_size = 10\n",
    "\n",
    "    while cost_function(x, y, w - step_size * grad) > cost + alpha:\n",
    "        step_size = beta * step_size\n",
    "\n",
    "    return step_size\n",
    "\n",
    "# Define the gradient function\n",
    "def gradient(x, y, w):\n",
    "    n, d = x.shape\n",
    "    g = x.T @ ((x @ w) - y) / n\n",
    "    return g\n",
    "\n",
    "# Define the cost function\n",
    "\n",
    "def cost_function(x, y, w):\n",
    "    n, d = x.shape\n",
    "    y_pred = x @ w\n",
    "    return np.sum((y - y_pred) ** 2) / (2 * n)"
   ]
  },
  {
   "cell_type": "code",
   "execution_count": null,
   "id": "1a9a6a66-bd33-4684-ba48-ffe1b6aa5d95",
   "metadata": {},
   "outputs": [],
   "source": []
  }
 ],
 "metadata": {
  "kernelspec": {
   "display_name": "Python 3 (ipykernel)",
   "language": "python",
   "name": "python3"
  },
  "language_info": {
   "codemirror_mode": {
    "name": "ipython",
    "version": 3
   },
   "file_extension": ".py",
   "mimetype": "text/x-python",
   "name": "python",
   "nbconvert_exporter": "python",
   "pygments_lexer": "ipython3",
   "version": "3.12.9"
  }
 },
 "nbformat": 4,
 "nbformat_minor": 5
}
