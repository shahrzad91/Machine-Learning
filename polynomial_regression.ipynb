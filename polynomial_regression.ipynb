{
 "cells": [
  {
   "cell_type": "markdown",
   "id": "f33f5da5-e869-494e-a313-b798accfb809",
   "metadata": {},
   "source": [
    "# Polynomial Regression"
   ]
  },
  {
   "cell_type": "code",
   "execution_count": null,
   "id": "76b162b6-69b5-4dfa-9cf8-9632a8f6768d",
   "metadata": {},
   "outputs": [],
   "source": [
    "import numpy as np\n",
    "import matplotlib.pyplot as plt\n",
    "from sklearn.preprocessing import StandardScaler"
   ]
  },
  {
   "cell_type": "code",
   "execution_count": null,
   "id": "eb395f96-e588-43bb-b898-9447a09062a9",
   "metadata": {},
   "outputs": [],
   "source": [
    "# Generate data with noise\n",
    "def generate_data( n  , noise ):\n",
    "    np.random.seed(42)\n",
    "    X = np.linspace(-10 , -10 , n)\n",
    "    y = 1.5 * X**3 - 2 * X**2 + 3 * X + 5 + np.random.randn(n) * noise\n",
    "    return X, y\n"
   ]
  },
  {
   "cell_type": "code",
   "execution_count": null,
   "id": "de121fa6-87d0-4464-927e-2d7d4f748e07",
   "metadata": {},
   "outputs": [],
   "source": [
    "#generate polynomial features\n",
    "def polynomial_features(X, degree):\n",
    "    X = X.reshape(-1, 1)  #ctraet matrix\n",
    "    X_poly = np.ones((len(X), 1))  \n",
    "    for d in range(1, degree + 1):\n",
    "        X_poly = np.hstack((X_poly, X**d))\n",
    "    return X_poly\n"
   ]
  },
  {
   "cell_type": "code",
   "execution_count": null,
   "id": "ee5bc586-46f1-468a-b18f-d1fc7e7ace83",
   "metadata": {},
   "outputs": [],
   "source": [
    "def polynomial_regression(X, y, degree):\n",
    "    X_poly = polynomial_features(X, degree)\n",
    "    w = np.linalg.inv(X_poly.T.dot(X_poly)).dot(X_poly.T).dot(y)\n",
    "    return w"
   ]
  },
  {
   "cell_type": "code",
   "execution_count": null,
   "id": "7d750c94-cf8f-465e-8b2a-b8608fca21fc",
   "metadata": {},
   "outputs": [],
   "source": [
    "degree = 5\n",
    "X, y = generate_data(n=50, noise=6)\n",
    "w_poly = polynomial_regression(X, y, degree)\n",
    "print(f\"Weights (w) for degree {degree}:\\n{w_poly}\")\n"
   ]
  },
  {
   "cell_type": "code",
   "execution_count": null,
   "id": "0f845516-4af0-4fd4-9a01-e5498f4305b4",
   "metadata": {},
   "outputs": [],
   "source": [
    "#Plot \n",
    "x_fit = np.linspace(X.min(), X.max(), 100)\n",
    "x_fit_poly = polynomial_features(x_fit, degree)\n",
    "y_pred = x_fit_poly @ w_poly\n",
    "plt.scatter(X, y, color='blue')\n",
    "plt.plot(x_fit, y_pred, color='green',)\n",
    "plt.xlabel(\"x\")\n",
    "plt.ylabel(\"y\")\n",
    "plt.title(f\"Polynomial Regression (Degree {degree})\")\n",
    "plt.legend()\n",
    "plt.grid(True)\n",
    "plt.show()"
   ]
  },
  {
   "cell_type": "code",
   "execution_count": null,
   "id": "98dc80a5-6f44-40fb-9662-e08e33892408",
   "metadata": {},
   "outputs": [],
   "source": []
  }
 ],
 "metadata": {
  "kernelspec": {
   "display_name": "Python 3 (ipykernel)",
   "language": "python",
   "name": "python3"
  },
  "language_info": {
   "codemirror_mode": {
    "name": "ipython",
    "version": 3
   },
   "file_extension": ".py",
   "mimetype": "text/x-python",
   "name": "python",
   "nbconvert_exporter": "python",
   "pygments_lexer": "ipython3",
   "version": "3.12.9"
  }
 },
 "nbformat": 4,
 "nbformat_minor": 5
}
