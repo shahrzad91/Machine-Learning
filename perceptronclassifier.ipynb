{
 "cells": [
  {
   "cell_type": "markdown",
   "id": "eb56b683-065e-4bb8-9a9f-d0b7e00e3c7b",
   "metadata": {},
   "source": [
    "# Implementing a perceptron classifier"
   ]
  },
  {
   "cell_type": "code",
   "execution_count": null,
   "id": "b7f141a4-bf04-46c4-be0c-95dfdb412f2b",
   "metadata": {},
   "outputs": [],
   "source": [
    "class Perceptron:\n",
    "    def __init__(self, learning_rate=0.01, epochs=1000):\n",
    "        self.learning_rate = learning_rate\n",
    "        self.epochs = epochs\n",
    "        self.weights = None\n",
    "        self.bias = None\n",
    "        self.errors = []\n",
    "\n",
    "    def fit(self, X, y):\n",
    "        number_samples, features = X.shape\n",
    "        self.weights = np.zeros(features)\n",
    "        self.bias = 0\n",
    "\n",
    "        for i in range(self.epochs):\n",
    "            errors = 0\n",
    "            for j in range(number_samples):\n",
    "                output = np.dot(X[j], self.weights) + self.bias\n",
    "                output_predict = self.step_function(output)\n",
    "                if y[j] != output_predict:\n",
    "                    update = self.learning_rate * y[j]\n",
    "                    self.weights += update * X[j]\n",
    "                    self.bias += update\n",
    "                    errors += 1\n",
    "            self.errors.append(errors)\n",
    "\n",
    "            if errors == 0:\n",
    "                print(f\"Converged after {i + 1} epochs\")\n",
    "                break\n",
    "\n",
    "    def predict(self, X):\n",
    "        output = np.dot(X, self.weights) + self.bias\n",
    "        return self.step_function(output)\n",
    "\n",
    "    def step_function(self, x):\n",
    "        return np.where(x >= 0, 1, -1)\n"
   ]
  }
 ],
 "metadata": {
  "kernelspec": {
   "display_name": "Python 3 (ipykernel)",
   "language": "python",
   "name": "python3"
  },
  "language_info": {
   "codemirror_mode": {
    "name": "ipython",
    "version": 3
   },
   "file_extension": ".py",
   "mimetype": "text/x-python",
   "name": "python",
   "nbconvert_exporter": "python",
   "pygments_lexer": "ipython3",
   "version": "3.12.9"
  }
 },
 "nbformat": 4,
 "nbformat_minor": 5
}
