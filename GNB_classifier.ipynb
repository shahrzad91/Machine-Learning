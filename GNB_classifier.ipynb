{
 "cells": [
  {
   "cell_type": "markdown",
   "id": "6993f3cd-f2bd-47de-b7ba-b54c7649fa40",
   "metadata": {},
   "source": [
    "# Gaussian Naive Bayes Classifier"
   ]
  },
  {
   "cell_type": "code",
   "execution_count": 15,
   "id": "9d06b5ba-7214-44bd-8f54-9c47fa5fde55",
   "metadata": {},
   "outputs": [],
   "source": [
    "import pandas as pd\n",
    "import numpy as np\n",
    "from sklearn.naive_bayes import GaussianNB\n",
    "from sklearn.datasets import load_iris\n",
    "from sklearn.model_selection import train_test_split\n",
    "from sklearn.metrics import accuracy_score"
   ]
  },
  {
   "cell_type": "code",
   "execution_count": 18,
   "id": "906cb578-4759-4a1a-8f1b-c8328e898750",
   "metadata": {},
   "outputs": [],
   "source": [
    "x, y = load_iris(return_X_y=True)\n",
    "x_train, x_test, y_train, y_test = train_test_split(x, y, \n",
    "                                test_size=0.2, \n",
    "                                random_state=0)"
   ]
  },
  {
   "cell_type": "code",
   "execution_count": 21,
   "id": "bfa8e7f5-2d49-422d-a297-a78537909d56",
   "metadata": {},
   "outputs": [
    {
     "name": "stdout",
     "output_type": "stream",
     "text": [
      "Accuracy: 0.9666666666666667\n"
     ]
    }
   ],
   "source": [
    "classifier1 = GaussianNB()\n",
    "classifier1.fit(x_train, y_train)\n",
    "y_predicted = classifier1.predict(x_test)\n",
    "accuracy = accuracy_score(y_test, y_predicted)\n",
    "print(\"Accuracy:\", accuracy)"
   ]
  },
  {
   "cell_type": "markdown",
   "id": "d59bd982-28f4-448a-a004-060faa420285",
   "metadata": {},
   "source": [
    "# Gaussian Naive Bayes from Scratch with Python"
   ]
  },
  {
   "cell_type": "code",
   "execution_count": 36,
   "id": "18cb2dc5-9faf-4893-93a2-391a7d128b04",
   "metadata": {},
   "outputs": [],
   "source": [
    "class GaussianNBClassifier:\n",
    "    def fit(self, x, y):\n",
    "        self.classes = np.unique(y)\n",
    "        self.num_classes = len(self.classes)\n",
    "        self.num_features = x.shape[1]\n",
    "\n",
    "        #p(y)\n",
    "        self.priors = np.zeros(self.num_classes)\n",
    "\n",
    "        #p(x|y)\n",
    "        self.means = np.zeros((self.num_classes, self.num_features))\n",
    "        self.variances = np.zeros((self.num_classes, self.num_features))\n",
    "        for i, c in enumerate(self.classes):\n",
    "            x_c = x[y == c]\n",
    "            self.priors[i] = x_c.shape[0] / x.shape[0]\n",
    "            self.means[i] = x_c.mean(axis=0)\n",
    "            self.variances[i] = x_c.var(axis=0)\n",
    "\n",
    "        \n",
    "    def predic(self, x):\n",
    "        num_samples = x.shape[0] \n",
    "        posteriors = np.zeros((num_samples, self.num_classes))\n",
    "\n",
    "        for i, c in enumerate(self.classes):\n",
    "            prior = np.log(self.priors[i])\n",
    "            posterior = np.sum(np.log(self._gaussian_pdf(x, self.means[i], self.variances[i])), axis=1)\n",
    "            posteriors[:, i] = prior + posterior\n",
    "\n",
    "        return self.classes[np.argmax(posteriors, axis=1)]\n",
    "\n",
    "    def _gaussian_pdf(self, x, mean, variance):\n",
    "        return (1 / np.sqrt(2 * np.pi * variance)) * np.exp(-((x - mean) ** 2) / (2 * variance))"
   ]
  },
  {
   "cell_type": "code",
   "execution_count": 38,
   "id": "f4500d70-bac4-4fa6-9b1a-b3df0c1491c0",
   "metadata": {},
   "outputs": [],
   "source": [
    "class GaussianNBClassifier:\n",
    "    def fit(self, x, y):\n",
    "        self.classes = np.unique(y)\n",
    "        self.num_classes = len(self.classes)\n",
    "        self.num_features = x.shape[1]\n",
    "\n",
    "        # p(y)\n",
    "        self.priors = np.zeros(self.num_classes)\n",
    "\n",
    "        # p(x|y)\n",
    "        self.means = np.zeros((self.num_classes, self.num_features))\n",
    "        self.variances = np.zeros((self.num_classes, self.num_features))\n",
    "        for i, c in enumerate(self.classes):\n",
    "            x_c = x[y == c]\n",
    "            self.priors[i] = x_c.shape[0] / x.shape[0]\n",
    "            self.means[i] = x_c.mean(axis=0)\n",
    "            self.variances[i] = x_c.var(axis=0)\n",
    "\n",
    "    def predict(self, x):\n",
    "        num_samples = x.shape[0]\n",
    "        posteriors = np.zeros((num_samples, self.num_classes))\n",
    "\n",
    "        for i, c in enumerate(self.classes):\n",
    "            prior = np.log(self.priors[i])\n",
    "            likelihood = np.sum(np.log(self._gaussian_pdf(x, self.means[i], self.variances[i])), axis=1)\n",
    "            posteriors[:, i] = prior + likelihood\n",
    "\n",
    "        return self.classes[np.argmax(posteriors, axis=1)]\n",
    "\n",
    "    def _gaussian_pdf(self, x, mean, variance):\n",
    "        eps = 1e-9   \n",
    "        return (1 / np.sqrt(2 * np.pi * (variance + eps))) * np.exp(-((x - mean) ** 2) / (2 * (variance + eps)))\n"
   ]
  },
  {
   "cell_type": "code",
   "execution_count": 39,
   "id": "b7d1194c-c364-4c11-b316-abccc10b04f6",
   "metadata": {},
   "outputs": [
    {
     "name": "stdout",
     "output_type": "stream",
     "text": [
      "Accuracy: 0.9666666666666667\n"
     ]
    }
   ],
   "source": [
    "classifier2 = GaussianNBClassifier()\n",
    "classifier2.fit(x_train, y_train)\n",
    "y_predicted2 = classifier2.predict(x_test)\n",
    "accuracy2 = accuracy_score(y_test, y_predicted2)\n",
    "print(\"Accuracy:\", accuracy2)"
   ]
  },
  {
   "cell_type": "code",
   "execution_count": null,
   "id": "48873226-6865-4f4b-8540-3ac42b9c94fc",
   "metadata": {},
   "outputs": [],
   "source": []
  }
 ],
 "metadata": {
  "kernelspec": {
   "display_name": "Python 3 (ipykernel)",
   "language": "python",
   "name": "python3"
  },
  "language_info": {
   "codemirror_mode": {
    "name": "ipython",
    "version": 3
   },
   "file_extension": ".py",
   "mimetype": "text/x-python",
   "name": "python",
   "nbconvert_exporter": "python",
   "pygments_lexer": "ipython3",
   "version": "3.12.9"
  }
 },
 "nbformat": 4,
 "nbformat_minor": 5
}
