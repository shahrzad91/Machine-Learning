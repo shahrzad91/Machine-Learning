{
 "cells": [
  {
   "cell_type": "code",
   "execution_count": null,
   "id": "579e2d93-79e9-4d97-9c6e-2366d5a66a7d",
   "metadata": {},
   "outputs": [],
   "source": [
    "import numpy as np\n",
    "import pandas as pd\n",
    "import matplotlib.pyplot as plt\n",
    "from sklearn.datasets import load_breast_cancer\n",
    "from sklearn.model_selection import train_test_split\n",
    "import seaborn as sns\n",
    "%matplotlib inline\n"
   ]
  },
  {
   "cell_type": "code",
   "execution_count": null,
   "id": "c544f565-c3b3-4dfe-9038-465ab6869eea",
   "metadata": {},
   "outputs": [],
   "source": [
    "# Load and Visualization and Preprocess the dataset\n",
    "data = load_breast_cancer()\n",
    "x = data.data\n",
    "y = data.target\n",
    "dx =pd.DataFrame(x , columns = data.feature_names)\n",
    "dy = pd.Series(y)\n",
    "#Hist1 = sns.histplot(data=dx , x=\"mean fractal dimension\" , hue = y)\n",
    "#Hist2 = sns.histplot(data=dx , x=\"worst concavity\" , hue = y)\n",
    "x = np.hstack((np.ones((len(y),1)),x))"
   ]
  },
  {
   "cell_type": "code",
   "execution_count": null,
   "id": "9fabf1b2-7264-406f-82bb-d8d90b1d55a5",
   "metadata": {},
   "outputs": [],
   "source": [
    "# Split datasets into training and testing sets\n",
    "x_train , x_test , y_train , y_test = train_test_split(x , y , test_size = 0.2 , random_state = 42)\n",
    "\n"
   ]
  },
  {
   "cell_type": "code",
   "execution_count": null,
   "id": "709f3889-14f0-48f7-8abb-1c8083487bb0",
   "metadata": {},
   "outputs": [],
   "source": [
    "# Logistic Regression \n",
    "class LogisticRegression:\n",
    "    def __init__(self, learning_rate = 0.01 , num_iteration = 1000):\n",
    "        self.learning_rate = learning_rate\n",
    "        self.num_iteration = num_iteration\n",
    "        self.weights = None\n",
    "    def fit(self, x, y):\n",
    "        num_samples , num_features =x.shape\n",
    "        \n",
    "        # Initialize weights and bias\n",
    "        self.weights = np.zeros(num_features)\n",
    "        \n",
    "         # Gradient descent\n",
    "        for _ in range(self.num_iteration):\n",
    "            linear_model = np.dot(x , self.weights)\n",
    "            y_predicted = self.sigmoid(linear_model)\n",
    "\n",
    "         # Update weights and bias using gradient descent\n",
    "            dw = (1 / num_samples) * np.dot(x.T, (y_predicted - y))\n",
    "            self.weights -= self.learning_rate * dw\n",
    "            \n",
    "    def predict(self,x):\n",
    "        linear_model  = np.dot(x, self.weights)\n",
    "        y_predicted = self.sigmoid(linear_model)\n",
    "        y_cls = [1 if i > 0.5 else 0 for i in y_predicted]\n",
    "        return y_cls\n",
    "\n",
    "    \n",
    "    @staticmethod\n",
    "    def sigmoid(t):\n",
    "        output = 1 / (1 + np.exp(-t))\n",
    "        return output\n",
    "  \n"
   ]
  },
  {
   "cell_type": "code",
   "execution_count": null,
   "id": "86a273f8-1393-4041-88ca-af65fbeaf384",
   "metadata": {},
   "outputs": [],
   "source": [
    "#Create an instance and predict and evaluate\n",
    "model = LogisticRegression()\n",
    "model.fit(x_train,y_train)\n",
    "y_predicted = model.predict(x_test )\n",
    "model_accuracy = np.mean(y_predicted == y_test)\n",
    "print(f\"Accuracy: {model_accuracy}\")"
   ]
  },
  {
   "cell_type": "code",
   "execution_count": null,
   "id": "9db7d148-f32b-41ed-8fdc-1d39e5a37efe",
   "metadata": {},
   "outputs": [],
   "source": [
    "#sklearn Logistic Regression\n",
    "from sklearn.linear_model import LogisticRegression as Skllogisticregression\n",
    "model = Skllogisticregression(random_state = 42)\n",
    "model.fit(x_train, y_train)\n",
    "y_predicted = model.predict(x_test)\n",
    "model_accuracy = np.mean(y_predicted == y_test)\n",
    "print(f\"Accuracy: {model_accuracy}\")"
   ]
  },
  {
   "cell_type": "code",
   "execution_count": null,
   "id": "92132cfb-f794-401b-a1ab-352ece900449",
   "metadata": {},
   "outputs": [],
   "source": []
  }
 ],
 "metadata": {
  "kernelspec": {
   "display_name": "Python 3 (ipykernel)",
   "language": "python",
   "name": "python3"
  },
  "language_info": {
   "codemirror_mode": {
    "name": "ipython",
    "version": 3
   },
   "file_extension": ".py",
   "mimetype": "text/x-python",
   "name": "python",
   "nbconvert_exporter": "python",
   "pygments_lexer": "ipython3",
   "version": "3.12.9"
  }
 },
 "nbformat": 4,
 "nbformat_minor": 5
}
